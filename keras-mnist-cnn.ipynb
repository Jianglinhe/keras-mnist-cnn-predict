{
 "cells": [
  {
   "cell_type": "markdown",
   "metadata": {},
   "source": [
    "# Keras框架实现mnist手写字体的识别"
   ]
  },
  {
   "cell_type": "code",
   "execution_count": 1,
   "metadata": {},
   "outputs": [
    {
     "name": "stderr",
     "output_type": "stream",
     "text": [
      "Using TensorFlow backend.\n"
     ]
    }
   ],
   "source": [
    "from keras.datasets import mnist\n",
    "from keras.utils import np_utils\n",
    "from keras.models import Sequential\n",
    "from keras.layers import Dense, Activation, Convolution2D, MaxPooling2D, Flatten\n",
    "from keras.optimizers import Adam\n",
    "from keras.callbacks import TensorBoard"
   ]
  },
  {
   "cell_type": "markdown",
   "metadata": {},
   "source": [
    "## 1 数据获取及处理\n",
    "    a>通过keras自建模块导入数据\n",
    "    b>训练集和测试集需要reshape，channels在前，-1表示不论多少样本\n",
    "    c>将标签准换为one-hot模式，即0-1二进制类（图片上的数字位置为1，其余为0）\n",
    "    d>对数据归一化处理，方便使用梯度下降法时更快收敛（需要先将uint8转化为float类型）"
   ]
  },
  {
   "cell_type": "code",
   "execution_count": 2,
   "metadata": {},
   "outputs": [
    {
     "name": "stdout",
     "output_type": "stream",
     "text": [
      "C:\\Users\\visitor\\.keras\\datasets\\mnist.npz\n"
     ]
    }
   ],
   "source": [
    "(x_train,y_train),(x_test,y_test) = mnist.load_data()"
   ]
  },
  {
   "cell_type": "code",
   "execution_count": 3,
   "metadata": {},
   "outputs": [],
   "source": [
    "x_train = x_train.reshape(-1,1,28,28)\n",
    "x_test = x_test.reshape(-1,1,28,28)\n",
    "y_train = np_utils.to_categorical(y_train,num_classes=10)\n",
    "y_test = np_utils.to_categorical(y_test,num_classes=10)"
   ]
  },
  {
   "cell_type": "code",
   "execution_count": 4,
   "metadata": {},
   "outputs": [
    {
     "name": "stdout",
     "output_type": "stream",
     "text": [
      "uint8 uint8\n"
     ]
    }
   ],
   "source": [
    "print(x_train.dtype, x_test.dtype)"
   ]
  },
  {
   "cell_type": "code",
   "execution_count": 5,
   "metadata": {},
   "outputs": [],
   "source": [
    "x_train = x_train.astype('float32')\n",
    "x_test = x_test.astype('float32')\n",
    "x_train/=255\n",
    "x_test/=255"
   ]
  },
  {
   "cell_type": "markdown",
   "metadata": {},
   "source": [
    "## 2 构建模型\n",
    "    Conv-->MaxPool-->Conv-->MaxPool-->FC-->Softmax\n",
    "    激活函数选用'relu'"
   ]
  },
  {
   "cell_type": "code",
   "execution_count": 6,
   "metadata": {},
   "outputs": [],
   "source": [
    "model = Sequential()"
   ]
  },
  {
   "cell_type": "code",
   "execution_count": 7,
   "metadata": {},
   "outputs": [],
   "source": [
    "model.add(Convolution2D(data_format='channels_first',filters=32,kernel_size=5,padding='same',input_shape=(1,28,28)))\n",
    "model.add(Activation('relu'))\n",
    "model.add(MaxPooling2D(pool_size=2,strides=2,padding='same',data_format='channels_first'))"
   ]
  },
  {
   "cell_type": "code",
   "execution_count": 8,
   "metadata": {},
   "outputs": [],
   "source": [
    "model.add(Convolution2D(64,5,strides=1,padding='same',data_format='channels_first'))\n",
    "model.add(Activation('relu'))\n",
    "model.add(MaxPooling2D(2,2,'same',data_format='channels_first'))"
   ]
  },
  {
   "cell_type": "code",
   "execution_count": 9,
   "metadata": {},
   "outputs": [
    {
     "name": "stdout",
     "output_type": "stream",
     "text": [
      "WARNING:tensorflow:From d:\\anaconda3\\envs\\tf\\lib\\site-packages\\keras\\backend\\tensorflow_backend.py:1205: calling reduce_prod (from tensorflow.python.ops.math_ops) with keep_dims is deprecated and will be removed in a future version.\n",
      "Instructions for updating:\n",
      "keep_dims is deprecated, use keepdims instead\n"
     ]
    }
   ],
   "source": [
    "model.add(Flatten()) # 将输入展平，不影响批量大小\n",
    "model.add(Dense(10))\n",
    "model.add(Activation('softmax'))"
   ]
  },
  {
   "cell_type": "code",
   "execution_count": 10,
   "metadata": {},
   "outputs": [
    {
     "name": "stdout",
     "output_type": "stream",
     "text": [
      "_________________________________________________________________\n",
      "Layer (type)                 Output Shape              Param #   \n",
      "=================================================================\n",
      "conv2d_1 (Conv2D)            (None, 32, 28, 28)        832       \n",
      "_________________________________________________________________\n",
      "activation_1 (Activation)    (None, 32, 28, 28)        0         \n",
      "_________________________________________________________________\n",
      "max_pooling2d_1 (MaxPooling2 (None, 32, 14, 14)        0         \n",
      "_________________________________________________________________\n",
      "conv2d_2 (Conv2D)            (None, 64, 14, 14)        51264     \n",
      "_________________________________________________________________\n",
      "activation_2 (Activation)    (None, 64, 14, 14)        0         \n",
      "_________________________________________________________________\n",
      "max_pooling2d_2 (MaxPooling2 (None, 64, 7, 7)          0         \n",
      "_________________________________________________________________\n",
      "flatten_1 (Flatten)          (None, 3136)              0         \n",
      "_________________________________________________________________\n",
      "dense_1 (Dense)              (None, 10)                31370     \n",
      "_________________________________________________________________\n",
      "activation_3 (Activation)    (None, 10)                0         \n",
      "=================================================================\n",
      "Total params: 83,466\n",
      "Trainable params: 83,466\n",
      "Non-trainable params: 0\n",
      "_________________________________________________________________\n"
     ]
    }
   ],
   "source": [
    "# 打印模型（模型的参数变化情况）\n",
    "model.summary()"
   ]
  },
  {
   "cell_type": "markdown",
   "metadata": {},
   "source": [
    "## 3 训练模型\n",
    "    a>使用Adam来优化\n",
    "    b>使用tensorboard来实现可视化\n",
    "    c>精度、损失与训练次数的曲线图见images"
   ]
  },
  {
   "cell_type": "code",
   "execution_count": null,
   "metadata": {},
   "outputs": [
    {
     "name": "stdout",
     "output_type": "stream",
     "text": [
      "WARNING:tensorflow:From d:\\anaconda3\\envs\\tf\\lib\\site-packages\\keras\\backend\\tensorflow_backend.py:2755: calling reduce_sum (from tensorflow.python.ops.math_ops) with keep_dims is deprecated and will be removed in a future version.\n",
      "Instructions for updating:\n",
      "keep_dims is deprecated, use keepdims instead\n",
      "WARNING:tensorflow:From d:\\anaconda3\\envs\\tf\\lib\\site-packages\\keras\\backend\\tensorflow_backend.py:1290: calling reduce_mean (from tensorflow.python.ops.math_ops) with keep_dims is deprecated and will be removed in a future version.\n",
      "Instructions for updating:\n",
      "keep_dims is deprecated, use keepdims instead\n",
      "Epoch 1/20\n",
      "60000/60000 [==============================] - 7s - loss: 0.2159 - acc: 0.9370     \n",
      "Epoch 2/20\n",
      "60000/60000 [==============================] - 5s - loss: 0.0584 - acc: 0.9813     \n",
      "Epoch 3/20\n",
      "60000/60000 [==============================] - 4s - loss: 0.0402 - acc: 0.9875     \n",
      "Epoch 4/20\n",
      "60000/60000 [==============================] - 4s - loss: 0.0312 - acc: 0.9904     \n",
      "Epoch 5/20\n",
      "60000/60000 [==============================] - 5s - loss: 0.0252 - acc: 0.9914     \n",
      "Epoch 6/20\n",
      "60000/60000 [==============================] - 4s - loss: 0.0201 - acc: 0.9932     - ETA: 1s - loss: 0.0202 - acc - ETA: 1s \n",
      "Epoch 7/20\n",
      "60000/60000 [==============================] - 4s - loss: 0.0169 - acc: 0.9946     \n",
      "Epoch 8/20\n",
      "60000/60000 [==============================] - 5s - loss: 0.0136 - acc: 0.9957     - ETA: 0s - loss: 0.012\n",
      "Epoch 9/20\n",
      "60000/60000 [==============================] - 5s - loss: 0.0117 - acc: 0.9964     \n",
      "Epoch 10/20\n",
      "60000/60000 [==============================] - 5s - loss: 0.0100 - acc: 0.9968     \n",
      "Epoch 11/20\n",
      "60000/60000 [==============================] - 4s - loss: 0.0097 - acc: 0.9967     \n",
      "Epoch 12/20\n",
      "60000/60000 [==============================] - 4s - loss: 0.0069 - acc: 0.9976     \n",
      "Epoch 13/20\n",
      "60000/60000 [==============================] - 5s - loss: 0.0060 - acc: 0.9980     \n",
      "Epoch 14/20\n",
      "60000/60000 [==============================] - 5s - loss: 0.0070 - acc: 0.9978     \n",
      "Epoch 15/20\n",
      "60000/60000 [==============================] - 5s - loss: 0.0046 - acc: 0.9987     \n",
      "Epoch 16/20\n",
      "60000/60000 [==============================] - 4s - loss: 0.0046 - acc: 0.9985     \n",
      "Epoch 17/20\n",
      "60000/60000 [==============================] - 5s - loss: 0.0038 - acc: 0.9988     \n",
      "Epoch 18/20\n",
      " 2688/60000 [>.............................] - ETA: 4s - loss: 0.0064 - acc: 0.9981"
     ]
    }
   ],
   "source": [
    "adam = Adam(lr=0.001)\n",
    "model.compile(optimizer=adam,loss='categorical_crossentropy',metrics=['accuracy'])\n",
    "model.fit(x_train,y_train,epochs=20,batch_size=128,callbacks=[TensorBoard(log_dir='my_tensorboard')])"
   ]
  },
  {
   "cell_type": "markdown",
   "metadata": {},
   "source": [
    "## 4 对测试集进行评估"
   ]
  },
  {
   "cell_type": "code",
   "execution_count": null,
   "metadata": {},
   "outputs": [],
   "source": [
    "loss,accuracy = model.evaluate(x_test,y_test)# 默认batch_size的的大小为32\n",
    "print('\\\\ntest loss:',loss)\n",
    "print('\\\\ntest accuracy',accuracy)"
   ]
  },
  {
   "cell_type": "markdown",
   "metadata": {},
   "source": [
    "如果觉得模型效果很好，可保存，下次可以直接导入，对测试集评估"
   ]
  },
  {
   "cell_type": "code",
   "execution_count": null,
   "metadata": {},
   "outputs": [],
   "source": [
    "model.save('keras-mnist-cnn-first.h5')"
   ]
  }
 ],
 "metadata": {
  "kernelspec": {
   "display_name": "Python 3",
   "language": "python",
   "name": "python3"
  },
  "language_info": {
   "codemirror_mode": {
    "name": "ipython",
    "version": 3
   },
   "file_extension": ".py",
   "mimetype": "text/x-python",
   "name": "python",
   "nbconvert_exporter": "python",
   "pygments_lexer": "ipython3",
   "version": "3.5.5"
  }
 },
 "nbformat": 4,
 "nbformat_minor": 2
}
